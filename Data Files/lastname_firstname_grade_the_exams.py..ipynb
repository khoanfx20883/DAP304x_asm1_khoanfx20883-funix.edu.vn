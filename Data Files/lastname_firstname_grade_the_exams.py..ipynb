{
 "cells": [
  {
   "cell_type": "code",
   "execution_count": 28,
   "id": "b674abe2",
   "metadata": {},
   "outputs": [
    {
     "name": "stdout",
     "output_type": "stream",
     "text": [
      " Enter a class file to grade (i.e. class1 for class1.txt): class2\n",
      "\n",
      " Successfully opened class2.txt\n",
      "\n",
      " **** ANALYZING ****\n",
      "\n",
      " Invalid line of data: does not contain exactly 26 values:\n",
      "\n",
      " N00000023,,A,D,D,C,B,D,A,C,C,,C,,B,A,C,B,D,A,C,A,A\n",
      "\n",
      " Invalid line of data: N# is invalid\n",
      "\n",
      " N0000002,B,A,D,D,C,B,D,A,C,D,D,D,A,,A,C,D,,A,C,A,A,B,D,D\n",
      "\n",
      " Invalid line of data: N# is invalid\n",
      "\n",
      " NA0000027,B,A,D,D,,B,,A,C,B,D,B,A,,A,C,B,D,A,,A,A,B,D,D\n",
      "\n",
      " Invalid line of data: does not contain exactly 26 values:\n",
      "\n",
      " N00000035,B,A,D,D,B,B,,A,C,,D,B,A,B,A,A,B,D,A,C,A,C,B,D,D,A,A\n",
      "\n",
      " **** REPORT  ****\n",
      "\n",
      " Total valid lines of data: 21\n",
      "\n",
      " Total invalid lines of data: 4\n"
     ]
    }
   ],
   "source": [
    "def matchAnswersFormat(answer):\n",
    "    commas = 0\n",
    "    if (answer[0]=='N' and answer[1:9].isnumeric()):\n",
    "        for coma in answer:\n",
    "            if(coma == ','):\n",
    "                commas = commas+1\n",
    "        if(commas==25):\n",
    "            return True\n",
    "        elif(commas!=25):\n",
    "            print(' Invalid line of data: does not contain exactly 26 values:\\n\\n',answer)\n",
    "            return False\n",
    "    else:\n",
    "        print(\" Invalid line of data: N# is invalid\\n\\n\",answer)\n",
    "        return False\n",
    "    \n",
    "\n",
    "def readByFileName():\n",
    "    Filename = input(' Enter a class file to grade (i.e. class1 for class1.txt): ')+'.txt'\n",
    "    try:\n",
    "        with open(Filename,'r') as readFile:\n",
    "            print('\\n Successfully opened',Filename)\n",
    "            print('\\n **** ANALYZING ****\\n')\n",
    "            errors = 0\n",
    "            for answers in readFile:\n",
    "                if(matchAnswersFormat(answers)==False):\n",
    "                    errors = errors + 1\n",
    "            if(errors==0):\n",
    "                    print('No errors found!\\n')\n",
    "            print(' **** REPORT  ****\\n')\n",
    "            readFile.seek(0,0)\n",
    "            print(' Total valid lines of data:',len(readFile.readlines())-errors)\n",
    "            print('\\n Total invalid lines of data:',errors)\n",
    "    except FileNotFoundError:\n",
    "        print('File cannot be found.')\n",
    "    \n",
    "readByFileName()"
   ]
  },
  {
   "cell_type": "code",
   "execution_count": null,
   "id": "c214f7a2",
   "metadata": {},
   "outputs": [],
   "source": []
  },
  {
   "cell_type": "code",
   "execution_count": null,
   "id": "20d002e2",
   "metadata": {},
   "outputs": [],
   "source": []
  },
  {
   "cell_type": "code",
   "execution_count": null,
   "id": "5fe1aa89",
   "metadata": {},
   "outputs": [],
   "source": []
  }
 ],
 "metadata": {
  "kernelspec": {
   "display_name": "Python 3 (ipykernel)",
   "language": "python",
   "name": "python3"
  },
  "language_info": {
   "codemirror_mode": {
    "name": "ipython",
    "version": 3
   },
   "file_extension": ".py",
   "mimetype": "text/x-python",
   "name": "python",
   "nbconvert_exporter": "python",
   "pygments_lexer": "ipython3",
   "version": "3.11.5"
  }
 },
 "nbformat": 4,
 "nbformat_minor": 5
}
